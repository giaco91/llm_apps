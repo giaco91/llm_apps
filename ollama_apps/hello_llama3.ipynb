{
 "cells": [
  {
   "cell_type": "markdown",
   "id": "0d9742b7-fe9c-470a-bc78-34314cf24a03",
   "metadata": {},
   "source": [
    "# Using Ollama framework\n",
    "Alternatively, ml-explore seems to be a very big and general community, especially also to download, run and fine-tune LLMs:\n",
    "https://github.com/ml-explore/mlx-examples/tree/main/llms"
   ]
  },
  {
   "cell_type": "code",
   "execution_count": 1,
   "id": "eef8d8d5-4bc6-442a-9fff-ed658a35f17f",
   "metadata": {},
   "outputs": [],
   "source": [
    "import requests\n",
    "import json"
   ]
  },
  {
   "cell_type": "code",
   "execution_count": 2,
   "id": "3422208c-f7e4-4391-8252-6fd4ae885f37",
   "metadata": {},
   "outputs": [],
   "source": [
    "# NOTE: ollama must be running for this to work, start the ollama app or run `ollama serve`\n",
    "model = \"llama3_supermario\"  # TODO: update this for whatever model you wish to use\n",
    "\n",
    "\n",
    "def chat(messages):\n",
    "    r = requests.post(\n",
    "        \"http://0.0.0.0:11434/api/chat\",\n",
    "        json={\"model\": model, \"messages\": messages, \"stream\": True},\n",
    "\tstream=True\n",
    "    )\n",
    "    r.raise_for_status()\n",
    "    output = \"\"\n",
    "\n",
    "    for line in r.iter_lines():\n",
    "        body = json.loads(line)\n",
    "        if \"error\" in body:\n",
    "            raise Exception(body[\"error\"])\n",
    "        if body.get(\"done\") is False:\n",
    "            message = body.get(\"message\", \"\")\n",
    "            content = message.get(\"content\", \"\")\n",
    "            output += content\n",
    "            # the response streams one token at a time, print that as we receive it\n",
    "            print(content, end=\"\", flush=True)\n",
    "\n",
    "        if body.get(\"done\", False):\n",
    "            message[\"content\"] = output\n",
    "            return message\n",
    "\n",
    "\n",
    "def main():\n",
    "    messages = []\n",
    "\n",
    "    while True:\n",
    "        user_input = input(\"Enter a prompt: \")\n",
    "        if not user_input:\n",
    "            exit()\n",
    "        print(messages)\n",
    "        messages.append({\"role\": \"user\", \"content\": user_input})\n",
    "        message = chat(messages)\n",
    "        messages.append(message)\n",
    "        print(\"\\n\\n\")\n"
   ]
  },
  {
   "cell_type": "code",
   "execution_count": 3,
   "id": "115ee90b-a4ae-48e0-972f-113a2a5914b0",
   "metadata": {},
   "outputs": [
    {
     "name": "stdin",
     "output_type": "stream",
     "text": [
      "Enter a prompt:  hi\n"
     ]
    },
    {
     "name": "stdout",
     "output_type": "stream",
     "text": [
      "[]\n",
      "It It\n",
      "'s It's\n",
      "-a It's-a\n",
      " me It's-a me\n",
      ", It's-a me,\n",
      " Mario It's-a me, Mario\n",
      "! It's-a me, Mario!\n",
      " * It's-a me, Mario! *\n",
      "m It's-a me, Mario! *m\n",
      "oust It's-a me, Mario! *moust\n",
      "ache It's-a me, Mario! *moustache\n",
      " tw It's-a me, Mario! *moustache tw\n",
      "irl It's-a me, Mario! *moustache twirl\n",
      "* It's-a me, Mario! *moustache twirl*\n",
      " Hi It's-a me, Mario! *moustache twirl* Hi\n",
      "ya It's-a me, Mario! *moustache twirl* Hiya\n",
      " pal It's-a me, Mario! *moustache twirl* Hiya pal\n",
      "! It's-a me, Mario! *moustache twirl* Hiya pal!\n",
      " I It's-a me, Mario! *moustache twirl* Hiya pal! I\n",
      "'m It's-a me, Mario! *moustache twirl* Hiya pal! I'm\n",
      "-a It's-a me, Mario! *moustache twirl* Hiya pal! I'm-a\n",
      " here It's-a me, Mario! *moustache twirl* Hiya pal! I'm-a here\n",
      " to It's-a me, Mario! *moustache twirl* Hiya pal! I'm-a here to\n",
      " help It's-a me, Mario! *moustache twirl* Hiya pal! I'm-a here to help\n",
      " ya It's-a me, Mario! *moustache twirl* Hiya pal! I'm-a here to help ya\n",
      " with It's-a me, Mario! *moustache twirl* Hiya pal! I'm-a here to help ya with\n",
      " any It's-a me, Mario! *moustache twirl* Hiya pal! I'm-a here to help ya with any\n",
      " questions It's-a me, Mario! *moustache twirl* Hiya pal! I'm-a here to help ya with any questions\n",
      " or It's-a me, Mario! *moustache twirl* Hiya pal! I'm-a here to help ya with any questions or\n",
      " problems It's-a me, Mario! *moustache twirl* Hiya pal! I'm-a here to help ya with any questions or problems\n",
      " you It's-a me, Mario! *moustache twirl* Hiya pal! I'm-a here to help ya with any questions or problems you\n",
      " might It's-a me, Mario! *moustache twirl* Hiya pal! I'm-a here to help ya with any questions or problems you might\n",
      " have It's-a me, Mario! *moustache twirl* Hiya pal! I'm-a here to help ya with any questions or problems you might have\n",
      ". It's-a me, Mario! *moustache twirl* Hiya pal! I'm-a here to help ya with any questions or problems you might have.\n",
      " Whether It's-a me, Mario! *moustache twirl* Hiya pal! I'm-a here to help ya with any questions or problems you might have. Whether\n",
      " it It's-a me, Mario! *moustache twirl* Hiya pal! I'm-a here to help ya with any questions or problems you might have. Whether it\n",
      "'s It's-a me, Mario! *moustache twirl* Hiya pal! I'm-a here to help ya with any questions or problems you might have. Whether it's\n",
      "-a It's-a me, Mario! *moustache twirl* Hiya pal! I'm-a here to help ya with any questions or problems you might have. Whether it's-a\n",
      " resc It's-a me, Mario! *moustache twirl* Hiya pal! I'm-a here to help ya with any questions or problems you might have. Whether it's-a resc\n",
      "uing It's-a me, Mario! *moustache twirl* Hiya pal! I'm-a here to help ya with any questions or problems you might have. Whether it's-a rescuing\n",
      " Princess It's-a me, Mario! *moustache twirl* Hiya pal! I'm-a here to help ya with any questions or problems you might have. Whether it's-a rescuing Princess\n",
      " Peach It's-a me, Mario! *moustache twirl* Hiya pal! I'm-a here to help ya with any questions or problems you might have. Whether it's-a rescuing Princess Peach\n",
      " from It's-a me, Mario! *moustache twirl* Hiya pal! I'm-a here to help ya with any questions or problems you might have. Whether it's-a rescuing Princess Peach from\n",
      " Bow It's-a me, Mario! *moustache twirl* Hiya pal! I'm-a here to help ya with any questions or problems you might have. Whether it's-a rescuing Princess Peach from Bow\n",
      "ser It's-a me, Mario! *moustache twirl* Hiya pal! I'm-a here to help ya with any questions or problems you might have. Whether it's-a rescuing Princess Peach from Bowser\n",
      " or It's-a me, Mario! *moustache twirl* Hiya pal! I'm-a here to help ya with any questions or problems you might have. Whether it's-a rescuing Princess Peach from Bowser or\n",
      " just It's-a me, Mario! *moustache twirl* Hiya pal! I'm-a here to help ya with any questions or problems you might have. Whether it's-a rescuing Princess Peach from Bowser or just\n",
      " need It's-a me, Mario! *moustache twirl* Hiya pal! I'm-a here to help ya with any questions or problems you might have. Whether it's-a rescuing Princess Peach from Bowser or just need\n",
      "in It's-a me, Mario! *moustache twirl* Hiya pal! I'm-a here to help ya with any questions or problems you might have. Whether it's-a rescuing Princess Peach from Bowser or just needin\n",
      "' It's-a me, Mario! *moustache twirl* Hiya pal! I'm-a here to help ya with any questions or problems you might have. Whether it's-a rescuing Princess Peach from Bowser or just needin'\n",
      " some It's-a me, Mario! *moustache twirl* Hiya pal! I'm-a here to help ya with any questions or problems you might have. Whether it's-a rescuing Princess Peach from Bowser or just needin' some\n",
      " advice It's-a me, Mario! *moustache twirl* Hiya pal! I'm-a here to help ya with any questions or problems you might have. Whether it's-a rescuing Princess Peach from Bowser or just needin' some advice\n",
      " on It's-a me, Mario! *moustache twirl* Hiya pal! I'm-a here to help ya with any questions or problems you might have. Whether it's-a rescuing Princess Peach from Bowser or just needin' some advice on\n",
      " how It's-a me, Mario! *moustache twirl* Hiya pal! I'm-a here to help ya with any questions or problems you might have. Whether it's-a rescuing Princess Peach from Bowser or just needin' some advice on how\n",
      " to It's-a me, Mario! *moustache twirl* Hiya pal! I'm-a here to help ya with any questions or problems you might have. Whether it's-a rescuing Princess Peach from Bowser or just needin' some advice on how to\n",
      " power It's-a me, Mario! *moustache twirl* Hiya pal! I'm-a here to help ya with any questions or problems you might have. Whether it's-a rescuing Princess Peach from Bowser or just needin' some advice on how to power\n",
      "-j It's-a me, Mario! *moustache twirl* Hiya pal! I'm-a here to help ya with any questions or problems you might have. Whether it's-a rescuing Princess Peach from Bowser or just needin' some advice on how to power-j\n",
      "ump It's-a me, Mario! *moustache twirl* Hiya pal! I'm-a here to help ya with any questions or problems you might have. Whether it's-a rescuing Princess Peach from Bowser or just needin' some advice on how to power-jump\n",
      " your It's-a me, Mario! *moustache twirl* Hiya pal! I'm-a here to help ya with any questions or problems you might have. Whether it's-a rescuing Princess Peach from Bowser or just needin' some advice on how to power-jump your\n",
      " way It's-a me, Mario! *moustache twirl* Hiya pal! I'm-a here to help ya with any questions or problems you might have. Whether it's-a rescuing Princess Peach from Bowser or just needin' some advice on how to power-jump your way\n",
      " through It's-a me, Mario! *moustache twirl* Hiya pal! I'm-a here to help ya with any questions or problems you might have. Whether it's-a rescuing Princess Peach from Bowser or just needin' some advice on how to power-jump your way through\n",
      " life It's-a me, Mario! *moustache twirl* Hiya pal! I'm-a here to help ya with any questions or problems you might have. Whether it's-a rescuing Princess Peach from Bowser or just needin' some advice on how to power-jump your way through life\n",
      ", It's-a me, Mario! *moustache twirl* Hiya pal! I'm-a here to help ya with any questions or problems you might have. Whether it's-a rescuing Princess Peach from Bowser or just needin' some advice on how to power-jump your way through life,\n",
      " I It's-a me, Mario! *moustache twirl* Hiya pal! I'm-a here to help ya with any questions or problems you might have. Whether it's-a rescuing Princess Peach from Bowser or just needin' some advice on how to power-jump your way through life, I\n",
      "'m It's-a me, Mario! *moustache twirl* Hiya pal! I'm-a here to help ya with any questions or problems you might have. Whether it's-a rescuing Princess Peach from Bowser or just needin' some advice on how to power-jump your way through life, I'm\n",
      "-a It's-a me, Mario! *moustache twirl* Hiya pal! I'm-a here to help ya with any questions or problems you might have. Whether it's-a rescuing Princess Peach from Bowser or just needin' some advice on how to power-jump your way through life, I'm-a\n",
      " your It's-a me, Mario! *moustache twirl* Hiya pal! I'm-a here to help ya with any questions or problems you might have. Whether it's-a rescuing Princess Peach from Bowser or just needin' some advice on how to power-jump your way through life, I'm-a your\n",
      " guy It's-a me, Mario! *moustache twirl* Hiya pal! I'm-a here to help ya with any questions or problems you might have. Whether it's-a rescuing Princess Peach from Bowser or just needin' some advice on how to power-jump your way through life, I'm-a your guy\n",
      "! It's-a me, Mario! *moustache twirl* Hiya pal! I'm-a here to help ya with any questions or problems you might have. Whether it's-a rescuing Princess Peach from Bowser or just needin' some advice on how to power-jump your way through life, I'm-a your guy!\n",
      "\n",
      "\n",
      "\n"
     ]
    },
    {
     "ename": "KeyboardInterrupt",
     "evalue": "Interrupted by user",
     "output_type": "error",
     "traceback": [
      "\u001b[0;31m---------------------------------------------------------------------------\u001b[0m",
      "\u001b[0;31mKeyboardInterrupt\u001b[0m                         Traceback (most recent call last)",
      "\u001b[0;32m/var/folders/zs/rjvzt_c954d5v9kwyknv4gy00000gn/T/ipykernel_23994/1759737772.py\u001b[0m in \u001b[0;36m<module>\u001b[0;34m\u001b[0m\n\u001b[0;32m----> 1\u001b[0;31m \u001b[0mmain\u001b[0m\u001b[0;34m(\u001b[0m\u001b[0;34m)\u001b[0m\u001b[0;34m\u001b[0m\u001b[0;34m\u001b[0m\u001b[0m\n\u001b[0m",
      "\u001b[0;32m/var/folders/zs/rjvzt_c954d5v9kwyknv4gy00000gn/T/ipykernel_23994/3795885621.py\u001b[0m in \u001b[0;36mmain\u001b[0;34m()\u001b[0m\n\u001b[1;32m     33\u001b[0m \u001b[0;34m\u001b[0m\u001b[0m\n\u001b[1;32m     34\u001b[0m     \u001b[0;32mwhile\u001b[0m \u001b[0;32mTrue\u001b[0m\u001b[0;34m:\u001b[0m\u001b[0;34m\u001b[0m\u001b[0;34m\u001b[0m\u001b[0m\n\u001b[0;32m---> 35\u001b[0;31m         \u001b[0muser_input\u001b[0m \u001b[0;34m=\u001b[0m \u001b[0minput\u001b[0m\u001b[0;34m(\u001b[0m\u001b[0;34m\"Enter a prompt: \"\u001b[0m\u001b[0;34m)\u001b[0m\u001b[0;34m\u001b[0m\u001b[0;34m\u001b[0m\u001b[0m\n\u001b[0m\u001b[1;32m     36\u001b[0m         \u001b[0;32mif\u001b[0m \u001b[0;32mnot\u001b[0m \u001b[0muser_input\u001b[0m\u001b[0;34m:\u001b[0m\u001b[0;34m\u001b[0m\u001b[0;34m\u001b[0m\u001b[0m\n\u001b[1;32m     37\u001b[0m             \u001b[0mexit\u001b[0m\u001b[0;34m(\u001b[0m\u001b[0;34m)\u001b[0m\u001b[0;34m\u001b[0m\u001b[0;34m\u001b[0m\u001b[0m\n",
      "\u001b[0;32m/usr/local/lib/python3.9/site-packages/ipykernel/kernelbase.py\u001b[0m in \u001b[0;36mraw_input\u001b[0;34m(self, prompt)\u001b[0m\n\u001b[1;32m   1280\u001b[0m             \u001b[0mmsg\u001b[0m \u001b[0;34m=\u001b[0m \u001b[0;34m\"raw_input was called, but this frontend does not support input requests.\"\u001b[0m\u001b[0;34m\u001b[0m\u001b[0;34m\u001b[0m\u001b[0m\n\u001b[1;32m   1281\u001b[0m             \u001b[0;32mraise\u001b[0m \u001b[0mStdinNotImplementedError\u001b[0m\u001b[0;34m(\u001b[0m\u001b[0mmsg\u001b[0m\u001b[0;34m)\u001b[0m\u001b[0;34m\u001b[0m\u001b[0;34m\u001b[0m\u001b[0m\n\u001b[0;32m-> 1282\u001b[0;31m         return self._input_request(\n\u001b[0m\u001b[1;32m   1283\u001b[0m             \u001b[0mstr\u001b[0m\u001b[0;34m(\u001b[0m\u001b[0mprompt\u001b[0m\u001b[0;34m)\u001b[0m\u001b[0;34m,\u001b[0m\u001b[0;34m\u001b[0m\u001b[0;34m\u001b[0m\u001b[0m\n\u001b[1;32m   1284\u001b[0m             \u001b[0mself\u001b[0m\u001b[0;34m.\u001b[0m\u001b[0m_parent_ident\u001b[0m\u001b[0;34m[\u001b[0m\u001b[0;34m\"shell\"\u001b[0m\u001b[0;34m]\u001b[0m\u001b[0;34m,\u001b[0m\u001b[0;34m\u001b[0m\u001b[0;34m\u001b[0m\u001b[0m\n",
      "\u001b[0;32m/usr/local/lib/python3.9/site-packages/ipykernel/kernelbase.py\u001b[0m in \u001b[0;36m_input_request\u001b[0;34m(self, prompt, ident, parent, password)\u001b[0m\n\u001b[1;32m   1323\u001b[0m                 \u001b[0;31m# re-raise KeyboardInterrupt, to truncate traceback\u001b[0m\u001b[0;34m\u001b[0m\u001b[0;34m\u001b[0m\u001b[0m\n\u001b[1;32m   1324\u001b[0m                 \u001b[0mmsg\u001b[0m \u001b[0;34m=\u001b[0m \u001b[0;34m\"Interrupted by user\"\u001b[0m\u001b[0;34m\u001b[0m\u001b[0;34m\u001b[0m\u001b[0m\n\u001b[0;32m-> 1325\u001b[0;31m                 \u001b[0;32mraise\u001b[0m \u001b[0mKeyboardInterrupt\u001b[0m\u001b[0;34m(\u001b[0m\u001b[0mmsg\u001b[0m\u001b[0;34m)\u001b[0m \u001b[0;32mfrom\u001b[0m \u001b[0;32mNone\u001b[0m\u001b[0;34m\u001b[0m\u001b[0;34m\u001b[0m\u001b[0m\n\u001b[0m\u001b[1;32m   1326\u001b[0m             \u001b[0;32mexcept\u001b[0m \u001b[0mException\u001b[0m\u001b[0;34m:\u001b[0m\u001b[0;34m\u001b[0m\u001b[0;34m\u001b[0m\u001b[0m\n\u001b[1;32m   1327\u001b[0m                 \u001b[0mself\u001b[0m\u001b[0;34m.\u001b[0m\u001b[0mlog\u001b[0m\u001b[0;34m.\u001b[0m\u001b[0mwarning\u001b[0m\u001b[0;34m(\u001b[0m\u001b[0;34m\"Invalid Message:\"\u001b[0m\u001b[0;34m,\u001b[0m \u001b[0mexc_info\u001b[0m\u001b[0;34m=\u001b[0m\u001b[0;32mTrue\u001b[0m\u001b[0;34m)\u001b[0m\u001b[0;34m\u001b[0m\u001b[0;34m\u001b[0m\u001b[0m\n",
      "\u001b[0;31mKeyboardInterrupt\u001b[0m: Interrupted by user"
     ]
    }
   ],
   "source": [
    "main()\n"
   ]
  },
  {
   "cell_type": "code",
   "execution_count": null,
   "id": "70914e15-8ba3-47a8-af7d-8d706632547a",
   "metadata": {},
   "outputs": [],
   "source": []
  }
 ],
 "metadata": {
  "kernelspec": {
   "display_name": "Python 3 (ipykernel)",
   "language": "python",
   "name": "python3"
  },
  "language_info": {
   "codemirror_mode": {
    "name": "ipython",
    "version": 3
   },
   "file_extension": ".py",
   "mimetype": "text/x-python",
   "name": "python",
   "nbconvert_exporter": "python",
   "pygments_lexer": "ipython3",
   "version": "3.9.19"
  }
 },
 "nbformat": 4,
 "nbformat_minor": 5
}
